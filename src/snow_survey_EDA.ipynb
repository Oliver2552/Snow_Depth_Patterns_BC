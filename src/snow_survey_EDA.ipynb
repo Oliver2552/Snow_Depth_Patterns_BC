{
 "cells": [
  {
   "cell_type": "markdown",
   "metadata": {},
   "source": [
    "# British Columbia Snow Survey Data - EDA"
   ]
  },
  {
   "cell_type": "markdown",
   "metadata": {},
   "source": [
    "The below will work to explore the data as well as clean any anomolies..."
   ]
  },
  {
   "cell_type": "code",
   "execution_count": 1,
   "metadata": {
    "tags": []
   },
   "outputs": [],
   "source": [
    "import os\n",
    "import numpy as np\n",
    "import pandas as pd\n",
    "import matplotlib.pyplot as plt\n",
    "import seaborn as sns"
   ]
  },
  {
   "cell_type": "code",
   "execution_count": 12,
   "metadata": {
    "tags": []
   },
   "outputs": [],
   "source": [
    "os.chdir(\"\\\\Users\\ca0pa\\midterm_project\")"
   ]
  },
  {
   "cell_type": "code",
   "execution_count": 14,
   "metadata": {
    "tags": []
   },
   "outputs": [
    {
     "data": {
      "text/html": [
       "<div>\n",
       "<style scoped>\n",
       "    .dataframe tbody tr th:only-of-type {\n",
       "        vertical-align: middle;\n",
       "    }\n",
       "\n",
       "    .dataframe tbody tr th {\n",
       "        vertical-align: top;\n",
       "    }\n",
       "\n",
       "    .dataframe thead th {\n",
       "        text-align: right;\n",
       "    }\n",
       "</style>\n",
       "<table border=\"1\" class=\"dataframe\">\n",
       "  <thead>\n",
       "    <tr style=\"text-align: right;\">\n",
       "      <th></th>\n",
       "      <th>Snow Course Name</th>\n",
       "      <th>Number</th>\n",
       "      <th>Elev. metres</th>\n",
       "      <th>Date of Survey</th>\n",
       "      <th>Snow Depth cm</th>\n",
       "      <th>Water Equiv. mm</th>\n",
       "      <th>Survey Code</th>\n",
       "      <th>Snow Line Elev. m</th>\n",
       "      <th>Density %</th>\n",
       "      <th>Survey Period</th>\n",
       "    </tr>\n",
       "  </thead>\n",
       "  <tbody>\n",
       "    <tr>\n",
       "      <th>0</th>\n",
       "      <td>YELLOWHEAD</td>\n",
       "      <td>1A01</td>\n",
       "      <td>1860</td>\n",
       "      <td>1951/03/30</td>\n",
       "      <td>168.0</td>\n",
       "      <td>528.0</td>\n",
       "      <td>NaN</td>\n",
       "      <td>NaN</td>\n",
       "      <td>31.0</td>\n",
       "      <td>01-Apr</td>\n",
       "    </tr>\n",
       "    <tr>\n",
       "      <th>1</th>\n",
       "      <td>YELLOWHEAD</td>\n",
       "      <td>1A01</td>\n",
       "      <td>1860</td>\n",
       "      <td>1951/04/30</td>\n",
       "      <td>147.0</td>\n",
       "      <td>485.0</td>\n",
       "      <td>NaN</td>\n",
       "      <td>NaN</td>\n",
       "      <td>33.0</td>\n",
       "      <td>01-May</td>\n",
       "    </tr>\n",
       "    <tr>\n",
       "      <th>2</th>\n",
       "      <td>YELLOWHEAD</td>\n",
       "      <td>1A01</td>\n",
       "      <td>1860</td>\n",
       "      <td>1951/05/19</td>\n",
       "      <td>89.0</td>\n",
       "      <td>320.0</td>\n",
       "      <td>NaN</td>\n",
       "      <td>NaN</td>\n",
       "      <td>36.0</td>\n",
       "      <td>15-May</td>\n",
       "    </tr>\n",
       "    <tr>\n",
       "      <th>3</th>\n",
       "      <td>YELLOWHEAD</td>\n",
       "      <td>1A01</td>\n",
       "      <td>1860</td>\n",
       "      <td>1952/04/30</td>\n",
       "      <td>157.0</td>\n",
       "      <td>523.0</td>\n",
       "      <td>NaN</td>\n",
       "      <td>NaN</td>\n",
       "      <td>33.0</td>\n",
       "      <td>01-May</td>\n",
       "    </tr>\n",
       "    <tr>\n",
       "      <th>4</th>\n",
       "      <td>YELLOWHEAD</td>\n",
       "      <td>1A01</td>\n",
       "      <td>1860</td>\n",
       "      <td>1952/05/19</td>\n",
       "      <td>79.0</td>\n",
       "      <td>264.0</td>\n",
       "      <td>NaN</td>\n",
       "      <td>NaN</td>\n",
       "      <td>33.0</td>\n",
       "      <td>15-May</td>\n",
       "    </tr>\n",
       "    <tr>\n",
       "      <th>...</th>\n",
       "      <td>...</td>\n",
       "      <td>...</td>\n",
       "      <td>...</td>\n",
       "      <td>...</td>\n",
       "      <td>...</td>\n",
       "      <td>...</td>\n",
       "      <td>...</td>\n",
       "      <td>...</td>\n",
       "      <td>...</td>\n",
       "      <td>...</td>\n",
       "    </tr>\n",
       "    <tr>\n",
       "      <th>59023</th>\n",
       "      <td>STANLEY CREEK</td>\n",
       "      <td>4E03</td>\n",
       "      <td>930</td>\n",
       "      <td>1985/05/16</td>\n",
       "      <td>83.0</td>\n",
       "      <td>307.0</td>\n",
       "      <td>NaN</td>\n",
       "      <td>NaN</td>\n",
       "      <td>37.0</td>\n",
       "      <td>15-May</td>\n",
       "    </tr>\n",
       "    <tr>\n",
       "      <th>59024</th>\n",
       "      <td>STANLEY CREEK</td>\n",
       "      <td>4E03</td>\n",
       "      <td>930</td>\n",
       "      <td>1986/03/02</td>\n",
       "      <td>142.0</td>\n",
       "      <td>320.0</td>\n",
       "      <td>NaN</td>\n",
       "      <td>NaN</td>\n",
       "      <td>23.0</td>\n",
       "      <td>01-Mar</td>\n",
       "    </tr>\n",
       "    <tr>\n",
       "      <th>59025</th>\n",
       "      <td>STANLEY CREEK</td>\n",
       "      <td>4E03</td>\n",
       "      <td>930</td>\n",
       "      <td>1986/04/01</td>\n",
       "      <td>135.0</td>\n",
       "      <td>365.0</td>\n",
       "      <td>PROBLEM</td>\n",
       "      <td>NaN</td>\n",
       "      <td>27.0</td>\n",
       "      <td>01-Apr</td>\n",
       "    </tr>\n",
       "    <tr>\n",
       "      <th>59026</th>\n",
       "      <td>STANLEY CREEK</td>\n",
       "      <td>4E03</td>\n",
       "      <td>930</td>\n",
       "      <td>1986/05/01</td>\n",
       "      <td>121.0</td>\n",
       "      <td>400.0</td>\n",
       "      <td>PROBLEM</td>\n",
       "      <td>NaN</td>\n",
       "      <td>33.0</td>\n",
       "      <td>01-May</td>\n",
       "    </tr>\n",
       "    <tr>\n",
       "      <th>59027</th>\n",
       "      <td>STANLEY CREEK</td>\n",
       "      <td>4E03</td>\n",
       "      <td>930</td>\n",
       "      <td>1986/05/15</td>\n",
       "      <td>83.0</td>\n",
       "      <td>285.0</td>\n",
       "      <td>NaN</td>\n",
       "      <td>NaN</td>\n",
       "      <td>34.0</td>\n",
       "      <td>15-May</td>\n",
       "    </tr>\n",
       "  </tbody>\n",
       "</table>\n",
       "<p>59028 rows × 10 columns</p>\n",
       "</div>"
      ],
      "text/plain": [
       "      Snow Course Name  Number   Elev. metres  Date of Survey   Snow Depth cm  \\\n",
       "0           YELLOWHEAD    1A01           1860      1951/03/30           168.0   \n",
       "1           YELLOWHEAD    1A01           1860      1951/04/30           147.0   \n",
       "2           YELLOWHEAD    1A01           1860      1951/05/19            89.0   \n",
       "3           YELLOWHEAD    1A01           1860      1952/04/30           157.0   \n",
       "4           YELLOWHEAD    1A01           1860      1952/05/19            79.0   \n",
       "...                ...     ...            ...             ...             ...   \n",
       "59023    STANLEY CREEK    4E03            930      1985/05/16            83.0   \n",
       "59024    STANLEY CREEK    4E03            930      1986/03/02           142.0   \n",
       "59025    STANLEY CREEK    4E03            930      1986/04/01           135.0   \n",
       "59026    STANLEY CREEK    4E03            930      1986/05/01           121.0   \n",
       "59027    STANLEY CREEK    4E03            930      1986/05/15            83.0   \n",
       "\n",
       "        Water Equiv. mm   Survey Code   Snow Line Elev. m   Density %  \\\n",
       "0                 528.0           NaN                 NaN        31.0   \n",
       "1                 485.0           NaN                 NaN        33.0   \n",
       "2                 320.0           NaN                 NaN        36.0   \n",
       "3                 523.0           NaN                 NaN        33.0   \n",
       "4                 264.0           NaN                 NaN        33.0   \n",
       "...                 ...           ...                 ...         ...   \n",
       "59023             307.0           NaN                 NaN        37.0   \n",
       "59024             320.0           NaN                 NaN        23.0   \n",
       "59025             365.0       PROBLEM                 NaN        27.0   \n",
       "59026             400.0       PROBLEM                 NaN        33.0   \n",
       "59027             285.0           NaN                 NaN        34.0   \n",
       "\n",
       "       Survey Period  \n",
       "0             01-Apr  \n",
       "1             01-May  \n",
       "2             15-May  \n",
       "3             01-May  \n",
       "4             15-May  \n",
       "...              ...  \n",
       "59023         15-May  \n",
       "59024         01-Mar  \n",
       "59025         01-Apr  \n",
       "59026         01-May  \n",
       "59027         15-May  \n",
       "\n",
       "[59028 rows x 10 columns]"
      ]
     },
     "execution_count": 14,
     "metadata": {},
     "output_type": "execute_result"
    }
   ],
   "source": [
    "# Importing the data\n",
    "snow_survey_df = pd.read_csv('data/allmss_archive.csv')\n",
    "snow_survey_df\n",
    "# we have 59028 rows/observations"
   ]
  },
  {
   "cell_type": "code",
   "execution_count": 15,
   "metadata": {
    "tags": []
   },
   "outputs": [
    {
     "data": {
      "text/plain": [
       "Index(['Snow Course Name', ' Number', ' Elev. metres', ' Date of Survey',\n",
       "       ' Snow Depth cm', ' Water Equiv. mm', '  Survey Code',\n",
       "       ' Snow Line Elev. m', ' Density %', ' Survey Period'],\n",
       "      dtype='object')"
      ]
     },
     "execution_count": 15,
     "metadata": {},
     "output_type": "execute_result"
    }
   ],
   "source": [
    "snow_survey_df.columns\n",
    "# Some columns have leading spaces, so lets fix it"
   ]
  },
  {
   "cell_type": "code",
   "execution_count": 16,
   "metadata": {
    "tags": []
   },
   "outputs": [
    {
     "data": {
      "text/html": [
       "<div>\n",
       "<style scoped>\n",
       "    .dataframe tbody tr th:only-of-type {\n",
       "        vertical-align: middle;\n",
       "    }\n",
       "\n",
       "    .dataframe tbody tr th {\n",
       "        vertical-align: top;\n",
       "    }\n",
       "\n",
       "    .dataframe thead th {\n",
       "        text-align: right;\n",
       "    }\n",
       "</style>\n",
       "<table border=\"1\" class=\"dataframe\">\n",
       "  <thead>\n",
       "    <tr style=\"text-align: right;\">\n",
       "      <th></th>\n",
       "      <th>Snow Course Name</th>\n",
       "      <th>Number</th>\n",
       "      <th>Elev. metres</th>\n",
       "      <th>Date of Survey</th>\n",
       "      <th>Snow Depth cm</th>\n",
       "      <th>Water Equiv. mm</th>\n",
       "      <th>Survey Code</th>\n",
       "      <th>Snow Line Elev. m</th>\n",
       "      <th>Density %</th>\n",
       "      <th>Survey Period</th>\n",
       "    </tr>\n",
       "  </thead>\n",
       "  <tbody>\n",
       "    <tr>\n",
       "      <th>0</th>\n",
       "      <td>YELLOWHEAD</td>\n",
       "      <td>1A01</td>\n",
       "      <td>1860</td>\n",
       "      <td>1951/03/30</td>\n",
       "      <td>168.0</td>\n",
       "      <td>528.0</td>\n",
       "      <td>NaN</td>\n",
       "      <td>NaN</td>\n",
       "      <td>31.0</td>\n",
       "      <td>01-Apr</td>\n",
       "    </tr>\n",
       "    <tr>\n",
       "      <th>1</th>\n",
       "      <td>YELLOWHEAD</td>\n",
       "      <td>1A01</td>\n",
       "      <td>1860</td>\n",
       "      <td>1951/04/30</td>\n",
       "      <td>147.0</td>\n",
       "      <td>485.0</td>\n",
       "      <td>NaN</td>\n",
       "      <td>NaN</td>\n",
       "      <td>33.0</td>\n",
       "      <td>01-May</td>\n",
       "    </tr>\n",
       "    <tr>\n",
       "      <th>2</th>\n",
       "      <td>YELLOWHEAD</td>\n",
       "      <td>1A01</td>\n",
       "      <td>1860</td>\n",
       "      <td>1951/05/19</td>\n",
       "      <td>89.0</td>\n",
       "      <td>320.0</td>\n",
       "      <td>NaN</td>\n",
       "      <td>NaN</td>\n",
       "      <td>36.0</td>\n",
       "      <td>15-May</td>\n",
       "    </tr>\n",
       "    <tr>\n",
       "      <th>3</th>\n",
       "      <td>YELLOWHEAD</td>\n",
       "      <td>1A01</td>\n",
       "      <td>1860</td>\n",
       "      <td>1952/04/30</td>\n",
       "      <td>157.0</td>\n",
       "      <td>523.0</td>\n",
       "      <td>NaN</td>\n",
       "      <td>NaN</td>\n",
       "      <td>33.0</td>\n",
       "      <td>01-May</td>\n",
       "    </tr>\n",
       "    <tr>\n",
       "      <th>4</th>\n",
       "      <td>YELLOWHEAD</td>\n",
       "      <td>1A01</td>\n",
       "      <td>1860</td>\n",
       "      <td>1952/05/19</td>\n",
       "      <td>79.0</td>\n",
       "      <td>264.0</td>\n",
       "      <td>NaN</td>\n",
       "      <td>NaN</td>\n",
       "      <td>33.0</td>\n",
       "      <td>15-May</td>\n",
       "    </tr>\n",
       "    <tr>\n",
       "      <th>...</th>\n",
       "      <td>...</td>\n",
       "      <td>...</td>\n",
       "      <td>...</td>\n",
       "      <td>...</td>\n",
       "      <td>...</td>\n",
       "      <td>...</td>\n",
       "      <td>...</td>\n",
       "      <td>...</td>\n",
       "      <td>...</td>\n",
       "      <td>...</td>\n",
       "    </tr>\n",
       "    <tr>\n",
       "      <th>59023</th>\n",
       "      <td>STANLEY CREEK</td>\n",
       "      <td>4E03</td>\n",
       "      <td>930</td>\n",
       "      <td>1985/05/16</td>\n",
       "      <td>83.0</td>\n",
       "      <td>307.0</td>\n",
       "      <td>NaN</td>\n",
       "      <td>NaN</td>\n",
       "      <td>37.0</td>\n",
       "      <td>15-May</td>\n",
       "    </tr>\n",
       "    <tr>\n",
       "      <th>59024</th>\n",
       "      <td>STANLEY CREEK</td>\n",
       "      <td>4E03</td>\n",
       "      <td>930</td>\n",
       "      <td>1986/03/02</td>\n",
       "      <td>142.0</td>\n",
       "      <td>320.0</td>\n",
       "      <td>NaN</td>\n",
       "      <td>NaN</td>\n",
       "      <td>23.0</td>\n",
       "      <td>01-Mar</td>\n",
       "    </tr>\n",
       "    <tr>\n",
       "      <th>59025</th>\n",
       "      <td>STANLEY CREEK</td>\n",
       "      <td>4E03</td>\n",
       "      <td>930</td>\n",
       "      <td>1986/04/01</td>\n",
       "      <td>135.0</td>\n",
       "      <td>365.0</td>\n",
       "      <td>PROBLEM</td>\n",
       "      <td>NaN</td>\n",
       "      <td>27.0</td>\n",
       "      <td>01-Apr</td>\n",
       "    </tr>\n",
       "    <tr>\n",
       "      <th>59026</th>\n",
       "      <td>STANLEY CREEK</td>\n",
       "      <td>4E03</td>\n",
       "      <td>930</td>\n",
       "      <td>1986/05/01</td>\n",
       "      <td>121.0</td>\n",
       "      <td>400.0</td>\n",
       "      <td>PROBLEM</td>\n",
       "      <td>NaN</td>\n",
       "      <td>33.0</td>\n",
       "      <td>01-May</td>\n",
       "    </tr>\n",
       "    <tr>\n",
       "      <th>59027</th>\n",
       "      <td>STANLEY CREEK</td>\n",
       "      <td>4E03</td>\n",
       "      <td>930</td>\n",
       "      <td>1986/05/15</td>\n",
       "      <td>83.0</td>\n",
       "      <td>285.0</td>\n",
       "      <td>NaN</td>\n",
       "      <td>NaN</td>\n",
       "      <td>34.0</td>\n",
       "      <td>15-May</td>\n",
       "    </tr>\n",
       "  </tbody>\n",
       "</table>\n",
       "<p>59028 rows × 10 columns</p>\n",
       "</div>"
      ],
      "text/plain": [
       "      Snow Course Name Number  Elev. metres Date of Survey  Snow Depth cm  \\\n",
       "0           YELLOWHEAD   1A01          1860     1951/03/30          168.0   \n",
       "1           YELLOWHEAD   1A01          1860     1951/04/30          147.0   \n",
       "2           YELLOWHEAD   1A01          1860     1951/05/19           89.0   \n",
       "3           YELLOWHEAD   1A01          1860     1952/04/30          157.0   \n",
       "4           YELLOWHEAD   1A01          1860     1952/05/19           79.0   \n",
       "...                ...    ...           ...            ...            ...   \n",
       "59023    STANLEY CREEK   4E03           930     1985/05/16           83.0   \n",
       "59024    STANLEY CREEK   4E03           930     1986/03/02          142.0   \n",
       "59025    STANLEY CREEK   4E03           930     1986/04/01          135.0   \n",
       "59026    STANLEY CREEK   4E03           930     1986/05/01          121.0   \n",
       "59027    STANLEY CREEK   4E03           930     1986/05/15           83.0   \n",
       "\n",
       "       Water Equiv. mm Survey Code  Snow Line Elev. m  Density % Survey Period  \n",
       "0                528.0         NaN                NaN       31.0        01-Apr  \n",
       "1                485.0         NaN                NaN       33.0        01-May  \n",
       "2                320.0         NaN                NaN       36.0        15-May  \n",
       "3                523.0         NaN                NaN       33.0        01-May  \n",
       "4                264.0         NaN                NaN       33.0        15-May  \n",
       "...                ...         ...                ...        ...           ...  \n",
       "59023            307.0         NaN                NaN       37.0        15-May  \n",
       "59024            320.0         NaN                NaN       23.0        01-Mar  \n",
       "59025            365.0     PROBLEM                NaN       27.0        01-Apr  \n",
       "59026            400.0     PROBLEM                NaN       33.0        01-May  \n",
       "59027            285.0         NaN                NaN       34.0        15-May  \n",
       "\n",
       "[59028 rows x 10 columns]"
      ]
     },
     "execution_count": 16,
     "metadata": {},
     "output_type": "execute_result"
    }
   ],
   "source": [
    "snow_survey_df.columns = snow_survey_df.columns.str.strip()\n",
    "snow_survey_df"
   ]
  },
  {
   "cell_type": "code",
   "execution_count": 17,
   "metadata": {
    "tags": []
   },
   "outputs": [
    {
     "data": {
      "text/plain": [
       "(59028, 10)"
      ]
     },
     "execution_count": 17,
     "metadata": {},
     "output_type": "execute_result"
    }
   ],
   "source": [
    "# The shape of our dataframe\n",
    "snow_survey_df.shape"
   ]
  },
  {
   "cell_type": "code",
   "execution_count": 18,
   "metadata": {
    "tags": []
   },
   "outputs": [
    {
     "data": {
      "text/html": [
       "<div>\n",
       "<style scoped>\n",
       "    .dataframe tbody tr th:only-of-type {\n",
       "        vertical-align: middle;\n",
       "    }\n",
       "\n",
       "    .dataframe tbody tr th {\n",
       "        vertical-align: top;\n",
       "    }\n",
       "\n",
       "    .dataframe thead th {\n",
       "        text-align: right;\n",
       "    }\n",
       "</style>\n",
       "<table border=\"1\" class=\"dataframe\">\n",
       "  <thead>\n",
       "    <tr style=\"text-align: right;\">\n",
       "      <th></th>\n",
       "      <th>Elev. metres</th>\n",
       "      <th>Snow Depth cm</th>\n",
       "      <th>Water Equiv. mm</th>\n",
       "      <th>Snow Line Elev. m</th>\n",
       "      <th>Density %</th>\n",
       "    </tr>\n",
       "  </thead>\n",
       "  <tbody>\n",
       "    <tr>\n",
       "      <th>count</th>\n",
       "      <td>59028.000000</td>\n",
       "      <td>58665.000000</td>\n",
       "      <td>58660.000000</td>\n",
       "      <td>3282.000000</td>\n",
       "      <td>54149.000000</td>\n",
       "    </tr>\n",
       "    <tr>\n",
       "      <th>mean</th>\n",
       "      <td>1363.544826</td>\n",
       "      <td>119.125594</td>\n",
       "      <td>431.040488</td>\n",
       "      <td>640.841255</td>\n",
       "      <td>33.302092</td>\n",
       "    </tr>\n",
       "    <tr>\n",
       "      <th>std</th>\n",
       "      <td>402.608060</td>\n",
       "      <td>94.454581</td>\n",
       "      <td>417.753645</td>\n",
       "      <td>571.114775</td>\n",
       "      <td>9.332047</td>\n",
       "    </tr>\n",
       "    <tr>\n",
       "      <th>min</th>\n",
       "      <td>70.000000</td>\n",
       "      <td>0.000000</td>\n",
       "      <td>0.000000</td>\n",
       "      <td>0.000000</td>\n",
       "      <td>0.000000</td>\n",
       "    </tr>\n",
       "    <tr>\n",
       "      <th>25%</th>\n",
       "      <td>1100.000000</td>\n",
       "      <td>52.000000</td>\n",
       "      <td>137.000000</td>\n",
       "      <td>0.000000</td>\n",
       "      <td>27.000000</td>\n",
       "    </tr>\n",
       "    <tr>\n",
       "      <th>50%</th>\n",
       "      <td>1400.000000</td>\n",
       "      <td>99.000000</td>\n",
       "      <td>302.000000</td>\n",
       "      <td>645.000000</td>\n",
       "      <td>32.000000</td>\n",
       "    </tr>\n",
       "    <tr>\n",
       "      <th>75%</th>\n",
       "      <td>1660.000000</td>\n",
       "      <td>166.000000</td>\n",
       "      <td>604.000000</td>\n",
       "      <td>1100.000000</td>\n",
       "      <td>39.000000</td>\n",
       "    </tr>\n",
       "    <tr>\n",
       "      <th>max</th>\n",
       "      <td>2230.000000</td>\n",
       "      <td>806.000000</td>\n",
       "      <td>3845.000000</td>\n",
       "      <td>3000.000000</td>\n",
       "      <td>125.000000</td>\n",
       "    </tr>\n",
       "  </tbody>\n",
       "</table>\n",
       "</div>"
      ],
      "text/plain": [
       "       Elev. metres  Snow Depth cm  Water Equiv. mm  Snow Line Elev. m  \\\n",
       "count  59028.000000   58665.000000     58660.000000        3282.000000   \n",
       "mean    1363.544826     119.125594       431.040488         640.841255   \n",
       "std      402.608060      94.454581       417.753645         571.114775   \n",
       "min       70.000000       0.000000         0.000000           0.000000   \n",
       "25%     1100.000000      52.000000       137.000000           0.000000   \n",
       "50%     1400.000000      99.000000       302.000000         645.000000   \n",
       "75%     1660.000000     166.000000       604.000000        1100.000000   \n",
       "max     2230.000000     806.000000      3845.000000        3000.000000   \n",
       "\n",
       "          Density %  \n",
       "count  54149.000000  \n",
       "mean      33.302092  \n",
       "std        9.332047  \n",
       "min        0.000000  \n",
       "25%       27.000000  \n",
       "50%       32.000000  \n",
       "75%       39.000000  \n",
       "max      125.000000  "
      ]
     },
     "execution_count": 18,
     "metadata": {},
     "output_type": "execute_result"
    }
   ],
   "source": [
    "# summary statistics for numerical variables\n",
    "snow_survey_df.describe()"
   ]
  },
  {
   "cell_type": "code",
   "execution_count": 19,
   "metadata": {
    "tags": []
   },
   "outputs": [
    {
     "data": {
      "text/plain": [
       "Snow Course Name         0\n",
       "Number                   0\n",
       "Elev. metres             0\n",
       "Date of Survey           0\n",
       "Snow Depth cm          363\n",
       "Water Equiv. mm        368\n",
       "Survey Code          56294\n",
       "Snow Line Elev. m    55746\n",
       "Density %             4879\n",
       "Survey Period            6\n",
       "dtype: int64"
      ]
     },
     "execution_count": 19,
     "metadata": {},
     "output_type": "execute_result"
    }
   ],
   "source": [
    "# On initial glance, we can see that 'Survey Code' and 'Snow Line Elev. m' contain many NaN values. Lets explore them individually - if Snow Line Elev. m is entirely NaN, may be worth dropping the entire column.\n",
    "missing_values = snow_survey_df.isnull().sum()\n",
    "missing_values"
   ]
  },
  {
   "cell_type": "code",
   "execution_count": 20,
   "metadata": {
    "tags": []
   },
   "outputs": [
    {
     "data": {
      "text/plain": [
       "Survey Code\n",
       "NaN                    56294\n",
       "PROBLEM                 1454\n",
       "EARLY/LATE               553\n",
       "N                        360\n",
       "PRELIMINARY              132\n",
       "TRACE                    114\n",
       "EST AREAL AVG             57\n",
       "EST PILLOW                31\n",
       "UNSCHEDULED               16\n",
       "EARLY/LATE/PROBLEMS        9\n",
       "NOT MEASURED               7\n",
       "Estimated                  1\n",
       "Name: count, dtype: int64"
      ]
     },
     "execution_count": 20,
     "metadata": {},
     "output_type": "execute_result"
    }
   ],
   "source": [
    "# Survey Code has some rows with entries as 'PROBLEM' lets see how many are like this\n",
    "survey_code_counts = snow_survey_df['Survey Code'].value_counts(dropna=False)\n",
    "survey_code_counts"
   ]
  },
  {
   "cell_type": "code",
   "execution_count": 21,
   "metadata": {
    "tags": []
   },
   "outputs": [
    {
     "data": {
      "text/plain": [
       "55746"
      ]
     },
     "execution_count": 21,
     "metadata": {},
     "output_type": "execute_result"
    }
   ],
   "source": [
    "# Lets do the same for 'Snow Line Elev. m'\n",
    "snow_line_Nan = snow_survey_df['Snow Line Elev. m'].isna().sum()\n",
    "snow_line_Nan\n",
    "\n",
    "# Majority of Snowline is Nan so it might be worth dropping..."
   ]
  },
  {
   "cell_type": "code",
   "execution_count": 49,
   "metadata": {
    "tags": []
   },
   "outputs": [
    {
     "data": {
      "text/plain": [
       "array(['YELLOWHEAD', 'MCBRIDE UPPER', 'BARKERVILLE', 'NECHAKO',\n",
       "       'LONGWORTH UPPER', 'HANSARD', 'FORT ST. JAMES', 'BOWRON LAKE',\n",
       "       'TORPY RIVER', 'PRINCE GEORGE AIRPORT', 'PACIFIC LAKE',\n",
       "       'KAZA LAKE', 'LONGWORTH LOWER', 'HEDRICK LAKE', 'KNUDSEN LAKE',\n",
       "       'BURNS LAKE', 'REVOLUTION CREEK', 'HOLMES RIVER', 'DOME MOUNTAIN',\n",
       "       'MCBRIDE MIDDLE', 'NARROW LAKE', 'MCBRIDE LOWER', 'BIRD CREEK',\n",
       "       'FORFAR CREEK (UPPER)', 'MOUNT WELLS', 'TAHTSA LAKE',\n",
       "       'PONDOSY LAKE', 'WHITESAIL LAKE', 'SKINS LAKE', 'MOUNT SWANNELL',\n",
       "       'NUTLI LAKE', 'BROOKMERE', 'PORCUPINE RIDGE', 'TRANQUILLE LAKE',\n",
       "       'PASS LAKE', 'MCGILLIVRAY PASS', 'PAVILION', 'LAC LE JEUNE LOWER',\n",
       "       'NAZKO', 'HIGHLAND VALLEY', 'FRENCH SNOWSHOE', 'MOUNT PENROSE',\n",
       "       'GREEN MOUNTAIN', 'BLACK MOUNTAIN', 'HORSEFLY MOUNTAIN',\n",
       "       'BRALORNE', 'SHALALTH', 'LYTTON', 'MOUNT TIMOTHY',\n",
       "       'GNAWED MOUNTAIN', 'BOSS MTN. MINE', 'BIG CREEK',\n",
       "       'PUNTZI MOUNTAIN', 'PENFOLD CREEK', 'YANKS PEAK',\n",
       "       'LAC LE JEUNE UPPER', 'HARRY LAKE', 'CORNWALL HILLS',\n",
       "       'DUFFEY LAKE', 'SHOVELNOSE MOUNTAIN', 'SPAHOMIN', 'CONANT LAKE',\n",
       "       'DEADMAN RIVER', 'GRANITE MOUNTAIN', 'BONAPARTE LAKE', 'FISH LAKE',\n",
       "       'FISH LAKE NO. 2', 'PAVILION MTN.', 'BRALORNE (UPPER)',\n",
       "       'DOWNTON LAKE UPPER', 'BRIDGE GLACIER LOWER',\n",
       "       'TYAUGHTON CREEK (NORTH)', 'CAVERHILL LAKE NEW', 'COQUITLAM LAKE',\n",
       "       'CYPRESS LAKE', 'UPPER STAVE RIVER', 'ALOUETTE LAKE', 'STEELHEAD',\n",
       "       'TENQUILLE LAKE', 'HOPE', 'STAVE LAKE', 'WAHLEACH LAKE',\n",
       "       'NAHATLATCH RIVER', 'BOSTON BAR CREEK (UPPER)',\n",
       "       'BOSTON BAR CREEK (LOWER)', 'WOLVERINE CREEK', 'OTTOMITE',\n",
       "       'GREAT BEAR', 'DICKSON LAKE', 'DISAPPOINTMENT LAKE', 'BLUE RIVER',\n",
       "       'BLUE RIVER TOWN', 'MOUNT COOK', 'TROPHY MOUNTAIN',\n",
       "       'MOUNT ALBREDA', 'KNOUFF LAKE', 'COOK FORKS', 'ADAMS RIVER',\n",
       "       'AZURE RIVER', 'KOSTAL LAKE', 'MOUNT SAINT ANNE', 'MCQUEEN LAKE',\n",
       "       'NORTH CLEMINA CREEK', 'ABERDEEN LAKE', 'HADDO LAKE', 'ANGLEMONT',\n",
       "       'PARK MOUNTAIN', 'ENDERBY', 'HUMAMILT LAKE', 'CANOE RIVER',\n",
       "       'GLACIER', 'NEW GLACIER', 'FIELD', 'INVERMERE', 'KINBASKET LAKE',\n",
       "       'MOUNT REVELSTOKE', 'KICKING HORSE', 'MIDDLE RIVER',\n",
       "       'BLACKWATER LOOKOUT', 'BLACKWATER CREEK', 'BEAVERFOOT',\n",
       "       'BIGMOUTH CREEK', 'MOUNT ABBOT', 'MICA CREEK', 'GOLDSTREAM',\n",
       "       'FIDELITY MOUNTAIN', 'KEYSTONE CREEK', 'VERMONT CREEK',\n",
       "       'WATAM LAKE', 'SUNBEAM LAKE', 'BUSH RIVER', 'MOUNT COPELAND',\n",
       "       'KIRBYVILLE LAKE', 'BUGABOO CREEK', 'DOWNIE SLIDE LOWER',\n",
       "       'DOWNIE SITE 8', 'DOWNIE SLIDE UPPER', 'REVELSTOKE', 'FARRON',\n",
       "       'OLD GLORY MOUNTAIN', 'WHATSHAN LOWER', 'WHATSHAN UPPER',\n",
       "       'BARNES CREEK', 'KOCH CREEK', 'ST. LEON CREEK', 'RECORD MOUNTAIN',\n",
       "       'SINCLAIR PASS', 'FERNIE', 'FERNIE (NE)', 'KIMBERLEY',\n",
       "       'SULLIVAN MINE', 'MARBLE CANYON', 'UPPER ELK RIVER', 'FERNIE EAST',\n",
       "       'FERNIE RIDGE', 'MORRISSEY RIDGE', 'MOYIE MOUNTAIN',\n",
       "       'KIMBERLEY (UPPER) VOR', 'KIMBERLEY (MIDDLE)VOR',\n",
       "       'KIMBERLEY (LOWER) VOR', 'FLOE LAKE', 'MOUNT ASSINIBOINE',\n",
       "       'MOUNT JOFFRE', 'THUNDER CREEK', 'VERMILION RIVER NO.1',\n",
       "       'VERMILION RIVER NO.2', 'VERMILION RIVER NO. 3',\n",
       "       'VERMILION RIVER NO.4', 'VERMILION RIVER NO.5', 'GERRARD',\n",
       "       'FERGUSON', 'SANDON', 'NELSON', 'GRAY CREEK LOWER', 'CHAR CREEK',\n",
       "       'DUNCAN LAKE', 'DUNCAN LAKE NO. 2', 'EAST CREEK',\n",
       "       'MOUNT TEMPLEMAN', 'GRAY CREEK UPPER', 'ARROW CREEK',\n",
       "       'HARLOW CREEK', 'MEADOW MOUNTAIN', 'LOST LEDGE', 'PURCELL',\n",
       "       'MONASHEE PASS', 'CARMI', 'BIG WHITE MOUNTAIN', 'TRAPPING CREEK',\n",
       "       'TRAPPING CREEK (UPPER)', 'TRAPPING CREEK (LOWER)',\n",
       "       'BLUEJOINT MOUNTAIN', 'TROUT CREEK', 'TROUT CREEK WEST',\n",
       "       'SUMMERLAND RESERVOIR', 'MCCULLOCH', 'GRAYSTOKE LAKE',\n",
       "       'MISSION CREEK', 'BOULEAU CREEK', 'POSTILL LAKE',\n",
       "       'GREYBACK RESERVOIR', 'WHITEROCKS MOUNTAIN',\n",
       "       'SILVER STAR MOUNTAIN', 'ISINTOK LAKE', 'MOUNT KOBAU',\n",
       "       'ESPERON CREEK UPPER', 'ESPERON CREEK MIDDLE',\n",
       "       'ESPERON CREEK LOWER', 'CARRS LANDING (LOWER)',\n",
       "       'CARRS LANDING (UPPER)', 'BRENDA MINE', 'OYAMA LAKE',\n",
       "       'VASEUX CREEK', 'BOULEAU LAKE', 'PEARSON CREEK', 'MACDONALD LAKE',\n",
       "       'ISLAHT LAKE', 'POSTILL LAKE UPPER', 'COPPER MOUNTAIN',\n",
       "       'SUNDAY SUMMIT', 'NICKEL PLATE', 'BLACKWALL PEAK',\n",
       "       'LOST HORSE MOUNTAIN', 'MISSEZULA MOUNTAIN', 'HAMILTON HILL',\n",
       "       'GROUSE MOUNTAIN', 'POWELL RIVER UPPER', 'POWELL RIVER',\n",
       "       'POWELL RIVER LOWER', 'BURWELL LAKE', 'HOLLYBURN', 'PALISADE LAKE',\n",
       "       'DOG MOUNTAIN', 'LOCH LOMOND', 'TATLAYOKO LAKE', 'GARIBALDI LAKE',\n",
       "       'MOUNT SEYMOUR', 'WHISTLER MOUNTAIN', 'TIEDEMANN GLACIER',\n",
       "       'TOBA RIVER', 'ORCHID LAKE', 'CALLAGHAN CREEK', 'DIAMOND HEAD',\n",
       "       'NOSTETUKO RIVER', 'CHAPMAN CREEK', 'EDWARDS LAKE',\n",
       "       'FORBIDDEN PLATEAU', 'MOUNT COKELY', 'LABOUR DAY LAKE',\n",
       "       'ELK RIVER', 'UPPER QUINSAM', 'TRIPP MEADOWS', 'ALLIGATOR MEADOWS',\n",
       "       'JUNE LAKE', 'BURMAN LAKE', 'UPPER THELWOOD LAKE', 'MEMORY LAKE',\n",
       "       'LYFORD MOUNTAIN', 'HEATHER MOUNTAIN', 'NEWCASTLE RIDGE',\n",
       "       'BEAR CREEK RESERVOIR', 'SNO-BIRD LAKE', 'WOLF RIVER UPPER',\n",
       "       'WOLF RIVER MIDDLE', 'WOLF RIVER LOWER', 'SPROAT LAKE',\n",
       "       'MARGARET LAKE', 'TENNENT LAKE', 'HEATHER MOUNTAIN UPPER',\n",
       "       'PRECIPICE', 'BELLA COOLA', 'MACHMELL RIVER', 'WEDEENE RIVER',\n",
       "       'BRADEN RIVER', 'LINK LAKE', 'WEDEENE RIVER SOUTH', 'TASHME',\n",
       "       'NEW TASHME', 'SUMALLO RIVER', 'SUMALLO RIVER WEST',\n",
       "       'LIGHTNING LAKE', 'KLESILKWA', 'MCLEOD LAKE', 'PINE PASS',\n",
       "       'WARE (UPPER)', 'WARE (LOWER)', 'GERMANSEN UPPER', 'TUTIZZI LAKE',\n",
       "       'LADY LAURIER LAKE', 'IPEC LAKE', 'PULPIT LAKE',\n",
       "       'FREDRICKSON LAKE', 'TRYGVE LAKE', 'TSAYDAYCHI LAKE',\n",
       "       'PHILIP LAKE', 'PINK MOUNTAIN', 'MISSINKA RIVER',\n",
       "       'MORFEE MOUNTAIN', 'GERMANSEN LOWER', 'MOUNT SHEBA',\n",
       "       'MACKENZIE AIRPORT', 'MACKENZIE AIRPORT MANUAL SNOW COURSE (2003)',\n",
       "       'MONKMAN CREEK', 'MOUNT STEARNS', 'SUKUNKA RIVER', 'BEATTON RIVER',\n",
       "       'WONOWON', 'FORT ST. JOHN AIRPORT', 'PORTAGE MOUNTAIN',\n",
       "       'KWADACHA RIVER', 'BULLHEAD MOUNTAIN', 'BULLMOOSE CREEK',\n",
       "       'KIDPRICE LAKE', 'JOHANSON LAKE', 'HUDSON BAY MOUNTAIN',\n",
       "       'CHAPMAN LAKE', 'SMITHERS', 'TACHEK CREEK', 'MCKENDRICK CREEK',\n",
       "       'MOUNT CRONIN', 'NINGUNSAW PASS', 'BEAR PASS', 'GRANDUC MINE',\n",
       "       'TERRACE AIRPORT', 'EQUITY MINE', 'LU LAKE', 'SIKANNI LAKE',\n",
       "       'SUMMIT LAKE', 'DEASE LAKE', 'CASSIAR', 'FORT NELSON AIRPORT',\n",
       "       'MOUNT ROOSEVELT', 'GRAYLING RIVER', 'TROUT RIVER',\n",
       "       'DEADWOOD RIVER', 'RABBIT RIVER', 'BLUFF CREEK', 'TOAD RIVER',\n",
       "       'KLUACHESI LAKE', 'FROG RIVER', 'JADE CITY', 'TELEGRAPH CREEK',\n",
       "       'ISKUT', 'RED CHRIS MINE LOWER', 'RED CHRIS MINE UPPER',\n",
       "       'TAHLTAN LAKE', 'TRIUMPH CREEK', 'SCHAFT CREEK',\n",
       "       'FORREST KERR CREEK', 'SNIPPAKER CREEK', 'TUMEKA CREEK',\n",
       "       'KINASKAN LAKE', 'EAGLENEST CREEK', 'UPPER STIKINE', 'WADE LAKE',\n",
       "       'BOUNDARY', 'LOG CABIN', 'ATLIN LAKE', 'STANLEY CREEK'],\n",
       "      dtype=object)"
      ]
     },
     "execution_count": 49,
     "metadata": {},
     "output_type": "execute_result"
    }
   ],
   "source": [
    "Snow_courses = snow_survey_df['Snow Course Name'].unique()\n",
    "Snow_courses"
   ]
  },
  {
   "cell_type": "code",
   "execution_count": 43,
   "metadata": {
    "tags": []
   },
   "outputs": [
    {
     "data": {
      "text/plain": [
       "Snow Course Name\n",
       "GLACIER                501\n",
       "FARRON                 474\n",
       "HUDSON BAY MOUNTAIN    473\n",
       "SULLIVAN MINE          461\n",
       "GRAY CREEK LOWER       444\n",
       "                      ... \n",
       "BLACKWATER LOOKOUT       3\n",
       "MISSINKA RIVER           2\n",
       "BIGMOUTH CREEK           2\n",
       "MIDDLE RIVER             1\n",
       "WHITESAIL LAKE           1\n",
       "Name: count, Length: 359, dtype: int64"
      ]
     },
     "execution_count": 43,
     "metadata": {},
     "output_type": "execute_result"
    }
   ],
   "source": [
    "# Look at possibilites to eliminate Snow Courses with patchy data.\n",
    "snow_course_counts = snow_survey_df['Snow Course Name'].value_counts()\n",
    "snow_course_counts"
   ]
  },
  {
   "cell_type": "markdown",
   "metadata": {},
   "source": [
    "## The number of survey stations is large, resulting in many possible correlational sets, so we'll investigate whether some stations can be removed - as survey dates go back to 1935."
   ]
  },
  {
   "cell_type": "code",
   "execution_count": 29,
   "metadata": {
    "tags": []
   },
   "outputs": [],
   "source": [
    "# Visualizing distribution of data points for each year by 'date of survey'\n",
    "snow_survey_df['Date of Survey'] = pd.to_datetime(snow_survey_df['Date of Survey'])"
   ]
  },
  {
   "cell_type": "code",
   "execution_count": 30,
   "metadata": {
    "tags": []
   },
   "outputs": [],
   "source": [
    "snow_survey_df['Year'] = snow_survey_df['Date of Survey'].dt.year"
   ]
  },
  {
   "cell_type": "code",
   "execution_count": 31,
   "metadata": {
    "tags": []
   },
   "outputs": [
    {
     "data": {
      "text/plain": [
       "Year\n",
       "1935      6\n",
       "1936      6\n",
       "1937     10\n",
       "1938     31\n",
       "1939     26\n",
       "       ... \n",
       "2019    677\n",
       "2020    675\n",
       "2021    663\n",
       "2022    619\n",
       "2023    530\n",
       "Name: count, Length: 89, dtype: int64"
      ]
     },
     "execution_count": 31,
     "metadata": {},
     "output_type": "execute_result"
    }
   ],
   "source": [
    "year_counts = snow_survey_df['Year'].value_counts().sort_index()\n",
    "year_counts"
   ]
  },
  {
   "cell_type": "code",
   "execution_count": 37,
   "metadata": {
    "tags": []
   },
   "outputs": [
    {
     "data": {
      "text/plain": [
       "([<matplotlib.axis.XTick at 0x1625c4682d0>,\n",
       "  <matplotlib.axis.XTick at 0x1625c468590>,\n",
       "  <matplotlib.axis.XTick at 0x1625c4b0490>,\n",
       "  <matplotlib.axis.XTick at 0x1625c7a9190>,\n",
       "  <matplotlib.axis.XTick at 0x1625c7aae90>,\n",
       "  <matplotlib.axis.XTick at 0x1625c7ad090>,\n",
       "  <matplotlib.axis.XTick at 0x1625c7af2d0>,\n",
       "  <matplotlib.axis.XTick at 0x1625c7b12d0>,\n",
       "  <matplotlib.axis.XTick at 0x1625c7b3350>,\n",
       "  <matplotlib.axis.XTick at 0x1625b33bed0>,\n",
       "  <matplotlib.axis.XTick at 0x1625c7c5c90>,\n",
       "  <matplotlib.axis.XTick at 0x1625c7c7d90>,\n",
       "  <matplotlib.axis.XTick at 0x1625c7c9e10>,\n",
       "  <matplotlib.axis.XTick at 0x1625c7cbc90>,\n",
       "  <matplotlib.axis.XTick at 0x1625c7c8910>,\n",
       "  <matplotlib.axis.XTick at 0x1625c7ce710>,\n",
       "  <matplotlib.axis.XTick at 0x1625c7d0690>,\n",
       "  <matplotlib.axis.XTick at 0x1625c7d2750>],\n",
       " [Text(1935, 0, '1935'),\n",
       "  Text(1940, 0, '1940'),\n",
       "  Text(1945, 0, '1945'),\n",
       "  Text(1950, 0, '1950'),\n",
       "  Text(1955, 0, '1955'),\n",
       "  Text(1960, 0, '1960'),\n",
       "  Text(1965, 0, '1965'),\n",
       "  Text(1970, 0, '1970'),\n",
       "  Text(1975, 0, '1975'),\n",
       "  Text(1980, 0, '1980'),\n",
       "  Text(1985, 0, '1985'),\n",
       "  Text(1990, 0, '1990'),\n",
       "  Text(1995, 0, '1995'),\n",
       "  Text(2000, 0, '2000'),\n",
       "  Text(2005, 0, '2005'),\n",
       "  Text(2010, 0, '2010'),\n",
       "  Text(2015, 0, '2015'),\n",
       "  Text(2020, 0, '2020')])"
      ]
     },
     "execution_count": 37,
     "metadata": {},
     "output_type": "execute_result"
    },
    {
     "data": {
      "image/png": "[encoded data removed]",
      "text/plain": [
       "<Figure size 1000x400 with 1 Axes>"
      ]
     },
     "metadata": {},
     "output_type": "display_data"
    }
   ],
   "source": [
    "# Now we'll create a plot to visualize the distribution of the counts by years.\n",
    "plt.figure(figsize=(10,4))\n",
    "plt.bar(year_counts.index,year_counts.values)\n",
    "plt.xlabel('Year')\n",
    "plt.ylabel('Data Points')\n",
    "plt.title('Distribution of Data Points by Year')\n",
    "plt.xticks(year_counts.index[::5])"
   ]
  },
  {
   "cell_type": "markdown",
   "metadata": {
    "tags": []
   },
   "source": [
    "## Now, let's look at the distribution of data points for each snow course name to eliminate any that might only be represented by a few data points."
   ]
  },
  {
   "cell_type": "code",
   "execution_count": 50,
   "metadata": {
    "tags": []
   },
   "outputs": [
    {
     "data": {
      "text/plain": [
       "Text(0.5, 1.0, 'Distributions of Data Points by Snow Course Name')"
      ]
     },
     "execution_count": 50,
     "metadata": {},
     "output_type": "execute_result"
    },
    {
     "data": {
      "image/png": "[encoded data removed]",
      "text/plain": [
       "<Figure size 1000x400 with 1 Axes>"
      ]
     },
     "metadata": {},
     "output_type": "display_data"
    }
   ],
   "source": [
    "plt.figure(figsize=(10,4))\n",
    "ax = sns.barplot(x=snow_course_counts.index,y=snow_course_counts.values)\n",
    "plt.xlabel('Snow Course Name')\n",
    "plt.ylabel('Number of Data Points')\n",
    "plt.title('Distributions of Data Points by Snow Course Name')"
   ]
  },
  {
   "cell_type": "markdown",
   "metadata": {
    "tags": []
   },
   "source": [
    "## Look at the number of stations!!"
   ]
  },
  {
   "cell_type": "code",
   "execution_count": null,
   "metadata": {},
   "outputs": [],
   "source": []
  }
 ],
 "metadata": {
  "kernelspec": {
   "display_name": "Python 3 (ipykernel)",
   "language": "python",
   "name": "python3"
  },
  "language_info": {
   "codemirror_mode": {
    "name": "ipython",
    "version": 3
   },
   "file_extension": ".py",
   "mimetype": "text/x-python",
   "name": "python",
   "nbconvert_exporter": "python",
   "pygments_lexer": "ipython3",
   "version": "3.11.5"
  }
 },
 "nbformat": 4,
 "nbformat_minor": 4
}
