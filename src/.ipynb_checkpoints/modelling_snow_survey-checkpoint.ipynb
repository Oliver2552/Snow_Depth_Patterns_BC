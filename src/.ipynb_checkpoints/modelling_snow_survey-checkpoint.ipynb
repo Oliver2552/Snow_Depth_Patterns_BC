{
 "cells": [
  {
   "cell_type": "markdown",
   "id": "2e731765-22ef-48d5-a133-0ce2055e30f3",
   "metadata": {},
   "source": [
    "# Modelling Snow Survey Data"
   ]
  },
  {
   "cell_type": "code",
   "execution_count": 3,
   "id": "9444a649-eb14-4e16-a309-24f2e45946de",
   "metadata": {
    "tags": []
   },
   "outputs": [],
   "source": [
    "import statsmodels.api as sm\n",
    "import numpy as np\n",
    "import pandas as pd\n",
    "import matplotlib.pyplot as plt\n",
    "import seaborn as sns"
   ]
  },
  {
   "cell_type": "code",
   "execution_count": 4,
   "id": "c3c2a83c-10a0-4c0a-abd5-a4d9e4ef8194",
   "metadata": {
    "tags": []
   },
   "outputs": [
    {
     "data": {
      "text/html": [
       "<div>\n",
       "<style scoped>\n",
       "    .dataframe tbody tr th:only-of-type {\n",
       "        vertical-align: middle;\n",
       "    }\n",
       "\n",
       "    .dataframe tbody tr th {\n",
       "        vertical-align: top;\n",
       "    }\n",
       "\n",
       "    .dataframe thead th {\n",
       "        text-align: right;\n",
       "    }\n",
       "</style>\n",
       "<table border=\"1\" class=\"dataframe\">\n",
       "  <thead>\n",
       "    <tr style=\"text-align: right;\">\n",
       "      <th></th>\n",
       "      <th>Snow Course Name</th>\n",
       "      <th>Elev. metres</th>\n",
       "      <th>Date of Survey</th>\n",
       "      <th>Snow Depth cm</th>\n",
       "      <th>Water Equiv. mm</th>\n",
       "      <th>Density %</th>\n",
       "      <th>Survey Period</th>\n",
       "      <th>LATITUDE</th>\n",
       "      <th>LONGITUDE</th>\n",
       "    </tr>\n",
       "  </thead>\n",
       "  <tbody>\n",
       "    <tr>\n",
       "      <th>0</th>\n",
       "      <td>YELLOWHEAD</td>\n",
       "      <td>1860</td>\n",
       "      <td>1951-03-30</td>\n",
       "      <td>168.0</td>\n",
       "      <td>528.0</td>\n",
       "      <td>31.0</td>\n",
       "      <td>01-Apr</td>\n",
       "      <td>52.90622</td>\n",
       "      <td>-118.547500</td>\n",
       "    </tr>\n",
       "    <tr>\n",
       "      <th>1</th>\n",
       "      <td>YELLOWHEAD</td>\n",
       "      <td>1860</td>\n",
       "      <td>1951-04-30</td>\n",
       "      <td>147.0</td>\n",
       "      <td>485.0</td>\n",
       "      <td>33.0</td>\n",
       "      <td>01-May</td>\n",
       "      <td>52.90622</td>\n",
       "      <td>-118.547500</td>\n",
       "    </tr>\n",
       "    <tr>\n",
       "      <th>2</th>\n",
       "      <td>YELLOWHEAD</td>\n",
       "      <td>1860</td>\n",
       "      <td>1951-05-19</td>\n",
       "      <td>89.0</td>\n",
       "      <td>320.0</td>\n",
       "      <td>36.0</td>\n",
       "      <td>15-May</td>\n",
       "      <td>52.90622</td>\n",
       "      <td>-118.547500</td>\n",
       "    </tr>\n",
       "    <tr>\n",
       "      <th>3</th>\n",
       "      <td>YELLOWHEAD</td>\n",
       "      <td>1860</td>\n",
       "      <td>1952-04-30</td>\n",
       "      <td>157.0</td>\n",
       "      <td>523.0</td>\n",
       "      <td>33.0</td>\n",
       "      <td>01-May</td>\n",
       "      <td>52.90622</td>\n",
       "      <td>-118.547500</td>\n",
       "    </tr>\n",
       "    <tr>\n",
       "      <th>4</th>\n",
       "      <td>YELLOWHEAD</td>\n",
       "      <td>1860</td>\n",
       "      <td>1952-05-19</td>\n",
       "      <td>79.0</td>\n",
       "      <td>264.0</td>\n",
       "      <td>33.0</td>\n",
       "      <td>15-May</td>\n",
       "      <td>52.90622</td>\n",
       "      <td>-118.547500</td>\n",
       "    </tr>\n",
       "    <tr>\n",
       "      <th>...</th>\n",
       "      <td>...</td>\n",
       "      <td>...</td>\n",
       "      <td>...</td>\n",
       "      <td>...</td>\n",
       "      <td>...</td>\n",
       "      <td>...</td>\n",
       "      <td>...</td>\n",
       "      <td>...</td>\n",
       "      <td>...</td>\n",
       "    </tr>\n",
       "    <tr>\n",
       "      <th>59049</th>\n",
       "      <td>STANLEY CREEK</td>\n",
       "      <td>930</td>\n",
       "      <td>1985-05-16</td>\n",
       "      <td>83.0</td>\n",
       "      <td>307.0</td>\n",
       "      <td>37.0</td>\n",
       "      <td>15-May</td>\n",
       "      <td>59.89627</td>\n",
       "      <td>-136.898406</td>\n",
       "    </tr>\n",
       "    <tr>\n",
       "      <th>59050</th>\n",
       "      <td>STANLEY CREEK</td>\n",
       "      <td>930</td>\n",
       "      <td>1986-03-02</td>\n",
       "      <td>142.0</td>\n",
       "      <td>320.0</td>\n",
       "      <td>23.0</td>\n",
       "      <td>01-Mar</td>\n",
       "      <td>59.89627</td>\n",
       "      <td>-136.898406</td>\n",
       "    </tr>\n",
       "    <tr>\n",
       "      <th>59051</th>\n",
       "      <td>STANLEY CREEK</td>\n",
       "      <td>930</td>\n",
       "      <td>1986-04-01</td>\n",
       "      <td>135.0</td>\n",
       "      <td>365.0</td>\n",
       "      <td>27.0</td>\n",
       "      <td>01-Apr</td>\n",
       "      <td>59.89627</td>\n",
       "      <td>-136.898406</td>\n",
       "    </tr>\n",
       "    <tr>\n",
       "      <th>59052</th>\n",
       "      <td>STANLEY CREEK</td>\n",
       "      <td>930</td>\n",
       "      <td>1986-05-01</td>\n",
       "      <td>121.0</td>\n",
       "      <td>400.0</td>\n",
       "      <td>33.0</td>\n",
       "      <td>01-May</td>\n",
       "      <td>59.89627</td>\n",
       "      <td>-136.898406</td>\n",
       "    </tr>\n",
       "    <tr>\n",
       "      <th>59053</th>\n",
       "      <td>STANLEY CREEK</td>\n",
       "      <td>930</td>\n",
       "      <td>1986-05-15</td>\n",
       "      <td>83.0</td>\n",
       "      <td>285.0</td>\n",
       "      <td>34.0</td>\n",
       "      <td>15-May</td>\n",
       "      <td>59.89627</td>\n",
       "      <td>-136.898406</td>\n",
       "    </tr>\n",
       "  </tbody>\n",
       "</table>\n",
       "<p>59054 rows × 9 columns</p>\n",
       "</div>"
      ],
      "text/plain": [
       "      Snow Course Name  Elev. metres Date of Survey  Snow Depth cm  \\\n",
       "0           YELLOWHEAD          1860     1951-03-30          168.0   \n",
       "1           YELLOWHEAD          1860     1951-04-30          147.0   \n",
       "2           YELLOWHEAD          1860     1951-05-19           89.0   \n",
       "3           YELLOWHEAD          1860     1952-04-30          157.0   \n",
       "4           YELLOWHEAD          1860     1952-05-19           79.0   \n",
       "...                ...           ...            ...            ...   \n",
       "59049    STANLEY CREEK           930     1985-05-16           83.0   \n",
       "59050    STANLEY CREEK           930     1986-03-02          142.0   \n",
       "59051    STANLEY CREEK           930     1986-04-01          135.0   \n",
       "59052    STANLEY CREEK           930     1986-05-01          121.0   \n",
       "59053    STANLEY CREEK           930     1986-05-15           83.0   \n",
       "\n",
       "       Water Equiv. mm  Density % Survey Period  LATITUDE   LONGITUDE  \n",
       "0                528.0       31.0        01-Apr  52.90622 -118.547500  \n",
       "1                485.0       33.0        01-May  52.90622 -118.547500  \n",
       "2                320.0       36.0        15-May  52.90622 -118.547500  \n",
       "3                523.0       33.0        01-May  52.90622 -118.547500  \n",
       "4                264.0       33.0        15-May  52.90622 -118.547500  \n",
       "...                ...        ...           ...       ...         ...  \n",
       "59049            307.0       37.0        15-May  59.89627 -136.898406  \n",
       "59050            320.0       23.0        01-Mar  59.89627 -136.898406  \n",
       "59051            365.0       27.0        01-Apr  59.89627 -136.898406  \n",
       "59052            400.0       33.0        01-May  59.89627 -136.898406  \n",
       "59053            285.0       34.0        15-May  59.89627 -136.898406  \n",
       "\n",
       "[59054 rows x 9 columns]"
      ]
     },
     "execution_count": 4,
     "metadata": {},
     "output_type": "execute_result"
    }
   ],
   "source": [
    "# import working dataset\n",
    "df = pd.read_csv(\"C:\\\\Users\\\\ca0pa\\\\midterm_project\\\\data\\\\snow_survey_df6\")\n",
    "df"
   ]
  },
  {
   "cell_type": "markdown",
   "id": "d019b99e-c825-4970-ba72-50ca7127f00d",
   "metadata": {},
   "source": [
    "We've opted to use a multivariate regression analysis (OLS) using Snow Depth as our dependent variable and Elevation, Latitude, and Density % as independent variables. We've decided not to use Water Equiv.mm because it is so highly correlated (because it was calculated from Snow Depth) with the dependent variable that it's bound to be significant (as seen in the CorrelationMatrix.png, found in the Output folder).\n",
    "\n",
    "We suspect that elevation and latitude will be significantly positively correlated with elevation and latitude (due to their underlying tendency to product cooler environmental conditions that contribute to snow formation). We're interested to include Density % as an independent variable to investigate whether this adds predictive capacity to the model.\n",
    "\n",
    "We've chosen an alpha value of 5%."
   ]
  },
  {
   "cell_type": "markdown",
   "id": "d1f51e65-234b-492d-932d-b72d3aa8215d",
   "metadata": {},
   "source": [
    "# Hypotheses "
   ]
  },
  {
   "cell_type": "markdown",
   "id": "375ca7b1-4732-4515-b3af-e19fc05a2926",
   "metadata": {},
   "source": [
    "H0: Independent variables will not be able to predict values of the dependent variable (no variables will have significance <= 0.05)"
   ]
  },
  {
   "cell_type": "markdown",
   "id": "bb1f06af-2989-48dc-a861-4dc5cfd47245",
   "metadata": {
    "tags": []
   },
   "source": [
    "HA: At least one of our independent variables will be positively significant (p <= 0.05)."
   ]
  },
  {
   "cell_type": "code",
   "execution_count": 15,
   "id": "d6cc5625-6f5c-4737-9efc-e03802b44ced",
   "metadata": {
    "tags": []
   },
   "outputs": [],
   "source": [
    "# Set up our regressors, and the constant\n",
    "regressors = ['Elev. metres','Density %','LATITUDE']\n",
    "\n",
    "x = sm.add_constant(df[regressors])\n",
    "\n",
    "# Set up our dependent variable\n",
    "y = df['Snow Depth cm']"
   ]
  },
  {
   "cell_type": "code",
   "execution_count": 16,
   "id": "6c6b7369-c532-4a9d-a531-dcd8a68fcd62",
   "metadata": {
    "tags": []
   },
   "outputs": [],
   "source": [
    "# Create OLS regression\n",
    "model = sm.OLS(y,x)"
   ]
  },
  {
   "cell_type": "code",
   "execution_count": 17,
   "id": "632f4caa-37f2-46de-95b9-e4f920f34c99",
   "metadata": {
    "tags": []
   },
   "outputs": [],
   "source": [
    "# fit the model\n",
    "results = model.fit()"
   ]
  },
  {
   "cell_type": "code",
   "execution_count": 18,
   "id": "71e39cbb-ab75-4b1e-92e8-1c51959e9a8c",
   "metadata": {
    "tags": []
   },
   "outputs": [
    {
     "data": {
      "text/html": [
       "<table class=\"simpletable\">\n",
       "<caption>OLS Regression Results</caption>\n",
       "<tr>\n",
       "  <th>Dep. Variable:</th>      <td>Snow Depth cm</td>  <th>  R-squared:         </th>  <td>   0.224</td>  \n",
       "</tr>\n",
       "<tr>\n",
       "  <th>Model:</th>                   <td>OLS</td>       <th>  Adj. R-squared:    </th>  <td>   0.224</td>  \n",
       "</tr>\n",
       "<tr>\n",
       "  <th>Method:</th>             <td>Least Squares</td>  <th>  F-statistic:       </th>  <td>   5693.</td>  \n",
       "</tr>\n",
       "<tr>\n",
       "  <th>Date:</th>             <td>Wed, 01 Nov 2023</td> <th>  Prob (F-statistic):</th>   <td>  0.00</td>   \n",
       "</tr>\n",
       "<tr>\n",
       "  <th>Time:</th>                 <td>11:42:42</td>     <th>  Log-Likelihood:    </th> <td>-3.4265e+05</td>\n",
       "</tr>\n",
       "<tr>\n",
       "  <th>No. Observations:</th>      <td> 59054</td>      <th>  AIC:               </th>  <td>6.853e+05</td> \n",
       "</tr>\n",
       "<tr>\n",
       "  <th>Df Residuals:</th>          <td> 59050</td>      <th>  BIC:               </th>  <td>6.854e+05</td> \n",
       "</tr>\n",
       "<tr>\n",
       "  <th>Df Model:</th>              <td>     3</td>      <th>                     </th>      <td> </td>     \n",
       "</tr>\n",
       "<tr>\n",
       "  <th>Covariance Type:</th>      <td>nonrobust</td>    <th>                     </th>      <td> </td>     \n",
       "</tr>\n",
       "</table>\n",
       "<table class=\"simpletable\">\n",
       "<tr>\n",
       "        <td></td>          <th>coef</th>     <th>std err</th>      <th>t</th>      <th>P>|t|</th>  <th>[0.025</th>    <th>0.975]</th>  \n",
       "</tr>\n",
       "<tr>\n",
       "  <th>const</th>        <td>  -87.4468</td> <td>    7.494</td> <td>  -11.670</td> <td> 0.000</td> <td> -102.134</td> <td>  -72.759</td>\n",
       "</tr>\n",
       "<tr>\n",
       "  <th>Elev. metres</th> <td>    0.0440</td> <td>    0.001</td> <td>   50.610</td> <td> 0.000</td> <td>    0.042</td> <td>    0.046</td>\n",
       "</tr>\n",
       "<tr>\n",
       "  <th>Density %</th>    <td>    3.9441</td> <td>    0.037</td> <td>  107.986</td> <td> 0.000</td> <td>    3.873</td> <td>    4.016</td>\n",
       "</tr>\n",
       "<tr>\n",
       "  <th>LATITUDE</th>     <td>    0.4450</td> <td>    0.131</td> <td>    3.397</td> <td> 0.001</td> <td>    0.188</td> <td>    0.702</td>\n",
       "</tr>\n",
       "</table>\n",
       "<table class=\"simpletable\">\n",
       "<tr>\n",
       "  <th>Omnibus:</th>       <td>14445.829</td> <th>  Durbin-Watson:     </th> <td>   0.644</td> \n",
       "</tr>\n",
       "<tr>\n",
       "  <th>Prob(Omnibus):</th>  <td> 0.000</td>   <th>  Jarque-Bera (JB):  </th> <td>54014.943</td>\n",
       "</tr>\n",
       "<tr>\n",
       "  <th>Skew:</th>           <td> 1.191</td>   <th>  Prob(JB):          </th> <td>    0.00</td> \n",
       "</tr>\n",
       "<tr>\n",
       "  <th>Kurtosis:</th>       <td> 7.035</td>   <th>  Cond. No.          </th> <td>3.25e+04</td> \n",
       "</tr>\n",
       "</table><br/><br/>Notes:<br/>[1] Standard Errors assume that the covariance matrix of the errors is correctly specified.<br/>[2] The condition number is large, 3.25e+04. This might indicate that there are<br/>strong multicollinearity or other numerical problems."
      ],
      "text/latex": [
       "\\begin{center}\n",
       "\\begin{tabular}{lclc}\n",
       "\\toprule\n",
       "\\textbf{Dep. Variable:}    &  Snow Depth cm   & \\textbf{  R-squared:         } &      0.224   \\\\\n",
       "\\textbf{Model:}            &       OLS        & \\textbf{  Adj. R-squared:    } &      0.224   \\\\\n",
       "\\textbf{Method:}           &  Least Squares   & \\textbf{  F-statistic:       } &      5693.   \\\\\n",
       "\\textbf{Date:}             & Wed, 01 Nov 2023 & \\textbf{  Prob (F-statistic):} &      0.00    \\\\\n",
       "\\textbf{Time:}             &     11:42:42     & \\textbf{  Log-Likelihood:    } & -3.4265e+05  \\\\\n",
       "\\textbf{No. Observations:} &       59054      & \\textbf{  AIC:               } &  6.853e+05   \\\\\n",
       "\\textbf{Df Residuals:}     &       59050      & \\textbf{  BIC:               } &  6.854e+05   \\\\\n",
       "\\textbf{Df Model:}         &           3      & \\textbf{                     } &              \\\\\n",
       "\\textbf{Covariance Type:}  &    nonrobust     & \\textbf{                     } &              \\\\\n",
       "\\bottomrule\n",
       "\\end{tabular}\n",
       "\\begin{tabular}{lcccccc}\n",
       "                      & \\textbf{coef} & \\textbf{std err} & \\textbf{t} & \\textbf{P$> |$t$|$} & \\textbf{[0.025} & \\textbf{0.975]}  \\\\\n",
       "\\midrule\n",
       "\\textbf{const}        &     -87.4468  &        7.494     &   -11.670  &         0.000        &     -102.134    &      -72.759     \\\\\n",
       "\\textbf{Elev. metres} &       0.0440  &        0.001     &    50.610  &         0.000        &        0.042    &        0.046     \\\\\n",
       "\\textbf{Density \\%}   &       3.9441  &        0.037     &   107.986  &         0.000        &        3.873    &        4.016     \\\\\n",
       "\\textbf{LATITUDE}     &       0.4450  &        0.131     &     3.397  &         0.001        &        0.188    &        0.702     \\\\\n",
       "\\bottomrule\n",
       "\\end{tabular}\n",
       "\\begin{tabular}{lclc}\n",
       "\\textbf{Omnibus:}       & 14445.829 & \\textbf{  Durbin-Watson:     } &     0.644  \\\\\n",
       "\\textbf{Prob(Omnibus):} &    0.000  & \\textbf{  Jarque-Bera (JB):  } & 54014.943  \\\\\n",
       "\\textbf{Skew:}          &    1.191  & \\textbf{  Prob(JB):          } &      0.00  \\\\\n",
       "\\textbf{Kurtosis:}      &    7.035  & \\textbf{  Cond. No.          } &  3.25e+04  \\\\\n",
       "\\bottomrule\n",
       "\\end{tabular}\n",
       "%\\caption{OLS Regression Results}\n",
       "\\end{center}\n",
       "\n",
       "Notes: \\newline\n",
       " [1] Standard Errors assume that the covariance matrix of the errors is correctly specified. \\newline\n",
       " [2] The condition number is large, 3.25e+04. This might indicate that there are \\newline\n",
       " strong multicollinearity or other numerical problems."
      ],
      "text/plain": [
       "<class 'statsmodels.iolib.summary.Summary'>\n",
       "\"\"\"\n",
       "                            OLS Regression Results                            \n",
       "==============================================================================\n",
       "Dep. Variable:          Snow Depth cm   R-squared:                       0.224\n",
       "Model:                            OLS   Adj. R-squared:                  0.224\n",
       "Method:                 Least Squares   F-statistic:                     5693.\n",
       "Date:                Wed, 01 Nov 2023   Prob (F-statistic):               0.00\n",
       "Time:                        11:42:42   Log-Likelihood:            -3.4265e+05\n",
       "No. Observations:               59054   AIC:                         6.853e+05\n",
       "Df Residuals:                   59050   BIC:                         6.854e+05\n",
       "Df Model:                           3                                         \n",
       "Covariance Type:            nonrobust                                         \n",
       "================================================================================\n",
       "                   coef    std err          t      P>|t|      [0.025      0.975]\n",
       "--------------------------------------------------------------------------------\n",
       "const          -87.4468      7.494    -11.670      0.000    -102.134     -72.759\n",
       "Elev. metres     0.0440      0.001     50.610      0.000       0.042       0.046\n",
       "Density %        3.9441      0.037    107.986      0.000       3.873       4.016\n",
       "LATITUDE         0.4450      0.131      3.397      0.001       0.188       0.702\n",
       "==============================================================================\n",
       "Omnibus:                    14445.829   Durbin-Watson:                   0.644\n",
       "Prob(Omnibus):                  0.000   Jarque-Bera (JB):            54014.943\n",
       "Skew:                           1.191   Prob(JB):                         0.00\n",
       "Kurtosis:                       7.035   Cond. No.                     3.25e+04\n",
       "==============================================================================\n",
       "\n",
       "Notes:\n",
       "[1] Standard Errors assume that the covariance matrix of the errors is correctly specified.\n",
       "[2] The condition number is large, 3.25e+04. This might indicate that there are\n",
       "strong multicollinearity or other numerical problems.\n",
       "\"\"\""
      ]
     },
     "execution_count": 18,
     "metadata": {},
     "output_type": "execute_result"
    }
   ],
   "source": [
    "results.summary()"
   ]
  },
  {
   "cell_type": "code",
   "execution_count": 19,
   "id": "96da3b89-fdd7-41fe-b925-144fae6d56bf",
   "metadata": {
    "tags": []
   },
   "outputs": [
    {
     "data": {
      "image/png": "[encoded data removed]",
      "text/plain": [
       "<Figure size 1000x800 with 2 Axes>"
      ]
     },
     "metadata": {},
     "output_type": "display_data"
    }
   ],
   "source": [
    "correlation_matrix = df[['Elev. metres', 'Snow Depth cm', 'Water Equiv. mm', 'Density %', 'LATITUDE']].corr()\n",
    "correlation_matrix\n",
    "\n",
    "plt.figure(figsize=(10,8))\n",
    "sns.heatmap(correlation_matrix, annot=True, cmap='coolwarm', fmt='.2f', vmin=-1, vmax=1)\n",
    "plt.title('Correlation Matrix')\n",
    "\n",
    "plt.show()\n",
    "\n",
    "# strong correlations between snow depth and water equivalence and density and water equivalence."
   ]
  },
  {
   "cell_type": "code",
   "execution_count": null,
   "id": "bb5425c1-99d9-4cfd-a8da-2eae579375e5",
   "metadata": {},
   "outputs": [],
   "source": []
  }
 ],
 "metadata": {
  "kernelspec": {
   "display_name": "lhl_env",
   "language": "python",
   "name": "lhl_env"
  },
  "language_info": {
   "codemirror_mode": {
    "name": "ipython",
    "version": 3
   },
   "file_extension": ".py",
   "mimetype": "text/x-python",
   "name": "python",
   "nbconvert_exporter": "python",
   "pygments_lexer": "ipython3",
   "version": "3.11.5"
  }
 },
 "nbformat": 4,
 "nbformat_minor": 5
}
